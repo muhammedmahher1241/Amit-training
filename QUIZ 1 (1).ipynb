{
 "cells": [
  {
   "cell_type": "markdown",
   "metadata": {
    "collapsed": true
   },
   "source": [
    "# QUIZ\n",
    "Let's test your knowledge!"
   ]
  },
  {
   "cell_type": "markdown",
   "metadata": {},
   "source": [
    "_____\n",
    "**Use <code>for</code>, .split(), and <code>if</code> to create a Statement that will print out words that start with 's':**"
   ]
  },
  {
   "cell_type": "code",
   "execution_count": null,
   "metadata": {},
   "outputs": [],
   "source": [
    "st = 'Print only the words that start with s in this sentence'"
   ]
  },
  {
   "cell_type": "code",
   "execution_count": 25,
   "metadata": {},
   "outputs": [
    {
     "name": "stdout",
     "output_type": "stream",
     "text": [
      "starts\n",
      "s\n",
      "sentense.\n"
     ]
    }
   ],
   "source": [
    "#Code here\n",
    "mystring = 'Hello, you need to print words which starts with s only in this sentense.'\n",
    "\n",
    "for word in mystring.split():\n",
    "    if word[0] == 's':\n",
    "        print(word)"
   ]
  },
  {
   "cell_type": "markdown",
   "metadata": {},
   "source": [
    "______\n",
    "**Use range() to print all the even numbers from 0 to 10.**"
   ]
  },
  {
   "cell_type": "code",
   "execution_count": 27,
   "metadata": {},
   "outputs": [
    {
     "name": "stdout",
     "output_type": "stream",
     "text": [
      "0\n",
      "2\n",
      "4\n",
      "6\n",
      "8\n",
      "10\n"
     ]
    }
   ],
   "source": [
    "#print all the even numbers from 0 to 10 step two\n",
    "N = range ( 0, 11, 2)\n",
    "\n",
    "for Number in N :\n",
    "    \n",
    "    print (Number) "
   ]
  },
  {
   "cell_type": "markdown",
   "metadata": {},
   "source": [
    "___\n",
    "**Use a List Comprehension to create a list of all numbers between 1 and 50 that are divisible by 3.**"
   ]
  },
  {
   "cell_type": "code",
   "execution_count": null,
   "metadata": {},
   "outputs": [],
   "source": [
    "#Code Her\n",
    "\n",
    "\n",
    "for i in range(0 , 50):\n",
    "    \n",
    "    #count from 0 to 50\n",
    "\n",
    "    if i%3==0:\n",
    "        \n",
    "        print (\"this no is dev 3\")\n",
    "    else:\n",
    "        print (\"this is not div to 3\")"
   ]
  },
  {
   "cell_type": "markdown",
   "metadata": {},
   "source": [
    "_____\n",
    "**Go through the string below and if the length of a word is even print \"even!\"**"
   ]
  },
  {
   "cell_type": "code",
   "execution_count": null,
   "metadata": {},
   "outputs": [],
   "source": [
    "st = 'Print every word in this sentence that has an even number of letters'"
   ]
  },
  {
   "cell_type": "code",
   "execution_count": 15,
   "metadata": {},
   "outputs": [
    {
     "name": "stdout",
     "output_type": "stream",
     "text": [
      "want\n"
     ]
    }
   ],
   "source": [
    "#Code in this cell\n",
    "\n",
    "text=\"I want sleep\"\n",
    "\n",
    "#splitting the words in a given string\n",
    "\n",
    "sting=n.split(\" \")\n",
    "\n",
    "for text in s:\n",
    "    \n",
    "  #checking the length of words\n",
    "\n",
    "  if len(text)%2==0:\n",
    "        \n",
    "    print(text)"
   ]
  },
  {
   "cell_type": "markdown",
   "metadata": {},
   "source": [
    "____\n",
    "**Write a program that prints the integers from 1 to 100. But for multiples of three print \"Fizz\" instead of the number, and for the multiples of five print \"Buzz\". For numbers which are multiples of both three and five print \"FizzBuzz\".**"
   ]
  },
  {
   "cell_type": "code",
   "execution_count": 28,
   "metadata": {},
   "outputs": [
    {
     "name": "stdout",
     "output_type": "stream",
     "text": [
      "0 fizzbuzz\n",
      "1 thanks this is not any one\n",
      "2 thanks this is not any one\n",
      "3 fizz\n",
      "4 thanks this is not any one\n",
      "5 buzz\n",
      "6 fizz\n",
      "7 thanks this is not any one\n",
      "8 thanks this is not any one\n",
      "9 fizz\n",
      "10 buzz\n",
      "11 thanks this is not any one\n",
      "12 fizz\n",
      "13 thanks this is not any one\n",
      "14 thanks this is not any one\n",
      "15 fizzbuzz\n",
      "16 thanks this is not any one\n",
      "17 thanks this is not any one\n",
      "18 fizz\n",
      "19 thanks this is not any one\n",
      "20 buzz\n",
      "21 fizz\n",
      "22 thanks this is not any one\n",
      "23 thanks this is not any one\n",
      "24 fizz\n",
      "25 buzz\n",
      "26 thanks this is not any one\n",
      "27 fizz\n",
      "28 thanks this is not any one\n",
      "29 thanks this is not any one\n",
      "30 fizzbuzz\n",
      "31 thanks this is not any one\n",
      "32 thanks this is not any one\n",
      "33 fizz\n",
      "34 thanks this is not any one\n",
      "35 buzz\n",
      "36 fizz\n",
      "37 thanks this is not any one\n",
      "38 thanks this is not any one\n",
      "39 fizz\n",
      "40 buzz\n",
      "41 thanks this is not any one\n",
      "42 fizz\n",
      "43 thanks this is not any one\n",
      "44 thanks this is not any one\n",
      "45 fizzbuzz\n",
      "46 thanks this is not any one\n",
      "47 thanks this is not any one\n",
      "48 fizz\n",
      "49 thanks this is not any one\n",
      "50 buzz\n",
      "51 fizz\n",
      "52 thanks this is not any one\n",
      "53 thanks this is not any one\n",
      "54 fizz\n",
      "55 buzz\n",
      "56 thanks this is not any one\n",
      "57 fizz\n",
      "58 thanks this is not any one\n",
      "59 thanks this is not any one\n",
      "60 fizzbuzz\n",
      "61 thanks this is not any one\n",
      "62 thanks this is not any one\n",
      "63 fizz\n",
      "64 thanks this is not any one\n",
      "65 buzz\n",
      "66 fizz\n",
      "67 thanks this is not any one\n",
      "68 thanks this is not any one\n",
      "69 fizz\n",
      "70 buzz\n",
      "71 thanks this is not any one\n",
      "72 fizz\n",
      "73 thanks this is not any one\n",
      "74 thanks this is not any one\n",
      "75 fizzbuzz\n",
      "76 thanks this is not any one\n",
      "77 thanks this is not any one\n",
      "78 fizz\n",
      "79 thanks this is not any one\n",
      "80 buzz\n",
      "81 fizz\n",
      "82 thanks this is not any one\n",
      "83 thanks this is not any one\n",
      "84 fizz\n",
      "85 buzz\n",
      "86 thanks this is not any one\n",
      "87 fizz\n",
      "88 thanks this is not any one\n",
      "89 thanks this is not any one\n",
      "90 fizzbuzz\n",
      "91 thanks this is not any one\n",
      "92 thanks this is not any one\n",
      "93 fizz\n",
      "94 thanks this is not any one\n",
      "95 buzz\n",
      "96 fizz\n",
      "97 thanks this is not any one\n",
      "98 thanks this is not any one\n",
      "99 fizz\n",
      "100 buzz\n"
     ]
    }
   ],
   "source": [
    "#Code in this cell\n",
    "\n",
    "for i in list(range(0 , 101 )):\n",
    "              \n",
    "    if i%5 ==0 and i%3==0:\n",
    "              \n",
    "        print (i,\"fizzbuzz\")\n",
    "    \n",
    "    elif i%3 ==0:\n",
    "        print (i, \"fizz\")\n",
    "    elif i%5 ==0:\n",
    "        print (i, \"buzz\")\n",
    "    else :\n",
    "        print (i, \"thanks this is not any one\")"
   ]
  },
  {
   "cell_type": "markdown",
   "metadata": {},
   "source": [
    "____\n",
    "**Use List Comprehension to create a list of the first letters of every word in the string below:**"
   ]
  },
  {
   "cell_type": "code",
   "execution_count": 9,
   "metadata": {},
   "outputs": [],
   "source": [
    "st = 'Create a list of the first letters of every word in this string'"
   ]
  },
  {
   "cell_type": "code",
   "execution_count": 11,
   "metadata": {},
   "outputs": [
    {
     "name": "stdout",
     "output_type": "stream",
     "text": [
      "['C', 'a', 'l', 'o', 't', 'f', 'l', 'o', 'e', 'w', 'i', 't', 's']\n"
     ]
    }
   ],
   "source": [
    "#Code in this cell\n",
    "st = 'Create a list of the first letters of every word in this string'\n",
    "\n",
    "mylist = [word[0] for word in st.split()]\n",
    "\n",
    "print(mylist)"
   ]
  },
  {
   "cell_type": "markdown",
   "metadata": {},
   "source": [
    "### Great Job!"
   ]
  }
 ],
 "metadata": {
  "kernelspec": {
   "display_name": "Python 3 (ipykernel)",
   "language": "python",
   "name": "python3"
  },
  "language_info": {
   "codemirror_mode": {
    "name": "ipython",
    "version": 3
   },
   "file_extension": ".py",
   "mimetype": "text/x-python",
   "name": "python",
   "nbconvert_exporter": "python",
   "pygments_lexer": "ipython3",
   "version": "3.9.7"
  }
 },
 "nbformat": 4,
 "nbformat_minor": 1
}
